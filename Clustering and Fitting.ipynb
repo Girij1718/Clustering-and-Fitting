import pandas as pd

# Load the dataset
file_path = r"C:\Users\girij\Downloads\Clustering\Adidas Vs Nike.csv"
data = pd.read_csv(file_path)

# Inspect the first few rows of the dataset
data.head()
